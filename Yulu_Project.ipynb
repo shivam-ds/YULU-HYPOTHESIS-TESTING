{
 "cells": [
  {
   "cell_type": "code",
   "execution_count": 1,
   "id": "bb7bbfa6",
   "metadata": {},
   "outputs": [],
   "source": [
    "import numpy as np\n",
    "import pandas as pd\n",
    "import matplotlib.pyplot as plt\n",
    "import seaborn as sns\n",
    "from scipy.stats import norm\n",
    "\n",
    "from scipy.stats import ttest_1samp\n",
    "from scipy.stats import chi2_contingency\n",
    "from scipy.stats import f_oneway\n",
    "from scipy.stats import ttest_ind,ttest_ind_from_stats "
   ]
  },
  {
   "cell_type": "markdown",
   "id": "8d40ce1c",
   "metadata": {},
   "source": [
    "<font size=14>**Problem Statement**<font> "
   ]
  },
  {
   "cell_type": "markdown",
   "id": "e13675b3",
   "metadata": {},
   "source": [
    "We need to test the relationship of various variables with the count(no . of rented bicyles )\n"
   ]
  },
  {
   "cell_type": "markdown",
   "id": "0818b485",
   "metadata": {},
   "source": [
    "<font size=6>**EDA**<font> "
   ]
  },
  {
   "cell_type": "code",
   "execution_count": 2,
   "id": "ec106b64",
   "metadata": {},
   "outputs": [],
   "source": [
    "df=pd.read_csv(r\"C://Users//bike_sharing.csv\")"
   ]
  },
  {
   "cell_type": "code",
   "execution_count": 3,
   "id": "902c97c4",
   "metadata": {},
   "outputs": [
    {
     "data": {
      "text/html": [
       "<div>\n",
       "<style scoped>\n",
       "    .dataframe tbody tr th:only-of-type {\n",
       "        vertical-align: middle;\n",
       "    }\n",
       "\n",
       "    .dataframe tbody tr th {\n",
       "        vertical-align: top;\n",
       "    }\n",
       "\n",
       "    .dataframe thead th {\n",
       "        text-align: right;\n",
       "    }\n",
       "</style>\n",
       "<table border=\"1\" class=\"dataframe\">\n",
       "  <thead>\n",
       "    <tr style=\"text-align: right;\">\n",
       "      <th></th>\n",
       "      <th>datetime</th>\n",
       "      <th>season</th>\n",
       "      <th>holiday</th>\n",
       "      <th>workingday</th>\n",
       "      <th>weather</th>\n",
       "      <th>temp</th>\n",
       "      <th>atemp</th>\n",
       "      <th>humidity</th>\n",
       "      <th>windspeed</th>\n",
       "      <th>casual</th>\n",
       "      <th>registered</th>\n",
       "      <th>count</th>\n",
       "    </tr>\n",
       "  </thead>\n",
       "  <tbody>\n",
       "    <tr>\n",
       "      <th>0</th>\n",
       "      <td>2011-01-01 00:00:00</td>\n",
       "      <td>1</td>\n",
       "      <td>0</td>\n",
       "      <td>0</td>\n",
       "      <td>1</td>\n",
       "      <td>9.84</td>\n",
       "      <td>14.395</td>\n",
       "      <td>81</td>\n",
       "      <td>0.0000</td>\n",
       "      <td>3</td>\n",
       "      <td>13</td>\n",
       "      <td>16</td>\n",
       "    </tr>\n",
       "    <tr>\n",
       "      <th>1</th>\n",
       "      <td>2011-01-01 01:00:00</td>\n",
       "      <td>1</td>\n",
       "      <td>0</td>\n",
       "      <td>0</td>\n",
       "      <td>1</td>\n",
       "      <td>9.02</td>\n",
       "      <td>13.635</td>\n",
       "      <td>80</td>\n",
       "      <td>0.0000</td>\n",
       "      <td>8</td>\n",
       "      <td>32</td>\n",
       "      <td>40</td>\n",
       "    </tr>\n",
       "    <tr>\n",
       "      <th>2</th>\n",
       "      <td>2011-01-01 02:00:00</td>\n",
       "      <td>1</td>\n",
       "      <td>0</td>\n",
       "      <td>0</td>\n",
       "      <td>1</td>\n",
       "      <td>9.02</td>\n",
       "      <td>13.635</td>\n",
       "      <td>80</td>\n",
       "      <td>0.0000</td>\n",
       "      <td>5</td>\n",
       "      <td>27</td>\n",
       "      <td>32</td>\n",
       "    </tr>\n",
       "    <tr>\n",
       "      <th>3</th>\n",
       "      <td>2011-01-01 03:00:00</td>\n",
       "      <td>1</td>\n",
       "      <td>0</td>\n",
       "      <td>0</td>\n",
       "      <td>1</td>\n",
       "      <td>9.84</td>\n",
       "      <td>14.395</td>\n",
       "      <td>75</td>\n",
       "      <td>0.0000</td>\n",
       "      <td>3</td>\n",
       "      <td>10</td>\n",
       "      <td>13</td>\n",
       "    </tr>\n",
       "    <tr>\n",
       "      <th>4</th>\n",
       "      <td>2011-01-01 04:00:00</td>\n",
       "      <td>1</td>\n",
       "      <td>0</td>\n",
       "      <td>0</td>\n",
       "      <td>1</td>\n",
       "      <td>9.84</td>\n",
       "      <td>14.395</td>\n",
       "      <td>75</td>\n",
       "      <td>0.0000</td>\n",
       "      <td>0</td>\n",
       "      <td>1</td>\n",
       "      <td>1</td>\n",
       "    </tr>\n",
       "    <tr>\n",
       "      <th>...</th>\n",
       "      <td>...</td>\n",
       "      <td>...</td>\n",
       "      <td>...</td>\n",
       "      <td>...</td>\n",
       "      <td>...</td>\n",
       "      <td>...</td>\n",
       "      <td>...</td>\n",
       "      <td>...</td>\n",
       "      <td>...</td>\n",
       "      <td>...</td>\n",
       "      <td>...</td>\n",
       "      <td>...</td>\n",
       "    </tr>\n",
       "    <tr>\n",
       "      <th>10881</th>\n",
       "      <td>2012-12-19 19:00:00</td>\n",
       "      <td>4</td>\n",
       "      <td>0</td>\n",
       "      <td>1</td>\n",
       "      <td>1</td>\n",
       "      <td>15.58</td>\n",
       "      <td>19.695</td>\n",
       "      <td>50</td>\n",
       "      <td>26.0027</td>\n",
       "      <td>7</td>\n",
       "      <td>329</td>\n",
       "      <td>336</td>\n",
       "    </tr>\n",
       "    <tr>\n",
       "      <th>10882</th>\n",
       "      <td>2012-12-19 20:00:00</td>\n",
       "      <td>4</td>\n",
       "      <td>0</td>\n",
       "      <td>1</td>\n",
       "      <td>1</td>\n",
       "      <td>14.76</td>\n",
       "      <td>17.425</td>\n",
       "      <td>57</td>\n",
       "      <td>15.0013</td>\n",
       "      <td>10</td>\n",
       "      <td>231</td>\n",
       "      <td>241</td>\n",
       "    </tr>\n",
       "    <tr>\n",
       "      <th>10883</th>\n",
       "      <td>2012-12-19 21:00:00</td>\n",
       "      <td>4</td>\n",
       "      <td>0</td>\n",
       "      <td>1</td>\n",
       "      <td>1</td>\n",
       "      <td>13.94</td>\n",
       "      <td>15.910</td>\n",
       "      <td>61</td>\n",
       "      <td>15.0013</td>\n",
       "      <td>4</td>\n",
       "      <td>164</td>\n",
       "      <td>168</td>\n",
       "    </tr>\n",
       "    <tr>\n",
       "      <th>10884</th>\n",
       "      <td>2012-12-19 22:00:00</td>\n",
       "      <td>4</td>\n",
       "      <td>0</td>\n",
       "      <td>1</td>\n",
       "      <td>1</td>\n",
       "      <td>13.94</td>\n",
       "      <td>17.425</td>\n",
       "      <td>61</td>\n",
       "      <td>6.0032</td>\n",
       "      <td>12</td>\n",
       "      <td>117</td>\n",
       "      <td>129</td>\n",
       "    </tr>\n",
       "    <tr>\n",
       "      <th>10885</th>\n",
       "      <td>2012-12-19 23:00:00</td>\n",
       "      <td>4</td>\n",
       "      <td>0</td>\n",
       "      <td>1</td>\n",
       "      <td>1</td>\n",
       "      <td>13.12</td>\n",
       "      <td>16.665</td>\n",
       "      <td>66</td>\n",
       "      <td>8.9981</td>\n",
       "      <td>4</td>\n",
       "      <td>84</td>\n",
       "      <td>88</td>\n",
       "    </tr>\n",
       "  </tbody>\n",
       "</table>\n",
       "<p>10886 rows × 12 columns</p>\n",
       "</div>"
      ],
      "text/plain": [
       "                  datetime  season  holiday  workingday  weather   temp  \\\n",
       "0      2011-01-01 00:00:00       1        0           0        1   9.84   \n",
       "1      2011-01-01 01:00:00       1        0           0        1   9.02   \n",
       "2      2011-01-01 02:00:00       1        0           0        1   9.02   \n",
       "3      2011-01-01 03:00:00       1        0           0        1   9.84   \n",
       "4      2011-01-01 04:00:00       1        0           0        1   9.84   \n",
       "...                    ...     ...      ...         ...      ...    ...   \n",
       "10881  2012-12-19 19:00:00       4        0           1        1  15.58   \n",
       "10882  2012-12-19 20:00:00       4        0           1        1  14.76   \n",
       "10883  2012-12-19 21:00:00       4        0           1        1  13.94   \n",
       "10884  2012-12-19 22:00:00       4        0           1        1  13.94   \n",
       "10885  2012-12-19 23:00:00       4        0           1        1  13.12   \n",
       "\n",
       "        atemp  humidity  windspeed  casual  registered  count  \n",
       "0      14.395        81     0.0000       3          13     16  \n",
       "1      13.635        80     0.0000       8          32     40  \n",
       "2      13.635        80     0.0000       5          27     32  \n",
       "3      14.395        75     0.0000       3          10     13  \n",
       "4      14.395        75     0.0000       0           1      1  \n",
       "...       ...       ...        ...     ...         ...    ...  \n",
       "10881  19.695        50    26.0027       7         329    336  \n",
       "10882  17.425        57    15.0013      10         231    241  \n",
       "10883  15.910        61    15.0013       4         164    168  \n",
       "10884  17.425        61     6.0032      12         117    129  \n",
       "10885  16.665        66     8.9981       4          84     88  \n",
       "\n",
       "[10886 rows x 12 columns]"
      ]
     },
     "execution_count": 3,
     "metadata": {},
     "output_type": "execute_result"
    }
   ],
   "source": [
    "df"
   ]
  },
  {
   "cell_type": "code",
   "execution_count": 4,
   "id": "2b4d942a",
   "metadata": {},
   "outputs": [
    {
     "data": {
      "text/plain": [
       "(10886, 12)"
      ]
     },
     "execution_count": 4,
     "metadata": {},
     "output_type": "execute_result"
    }
   ],
   "source": [
    "df.shape"
   ]
  },
  {
   "cell_type": "code",
   "execution_count": 5,
   "id": "057d6074",
   "metadata": {},
   "outputs": [
    {
     "name": "stdout",
     "output_type": "stream",
     "text": [
      "<class 'pandas.core.frame.DataFrame'>\n",
      "RangeIndex: 10886 entries, 0 to 10885\n",
      "Data columns (total 12 columns):\n",
      " #   Column      Non-Null Count  Dtype  \n",
      "---  ------      --------------  -----  \n",
      " 0   datetime    10886 non-null  object \n",
      " 1   season      10886 non-null  int64  \n",
      " 2   holiday     10886 non-null  int64  \n",
      " 3   workingday  10886 non-null  int64  \n",
      " 4   weather     10886 non-null  int64  \n",
      " 5   temp        10886 non-null  float64\n",
      " 6   atemp       10886 non-null  float64\n",
      " 7   humidity    10886 non-null  int64  \n",
      " 8   windspeed   10886 non-null  float64\n",
      " 9   casual      10886 non-null  int64  \n",
      " 10  registered  10886 non-null  int64  \n",
      " 11  count       10886 non-null  int64  \n",
      "dtypes: float64(3), int64(8), object(1)\n",
      "memory usage: 1020.7+ KB\n"
     ]
    }
   ],
   "source": [
    "df.info()"
   ]
  },
  {
   "cell_type": "markdown",
   "id": "c8ad90ba",
   "metadata": {},
   "source": [
    "<font size=\"10\">**Categorical Conversion**<font>"
   ]
  },
  {
   "cell_type": "code",
   "execution_count": 6,
   "id": "e1f10af8",
   "metadata": {},
   "outputs": [],
   "source": [
    "cols = ['season', \"holiday\", 'workingday',\"weather\"]\n",
    "df[cols] = df[cols].astype('object')"
   ]
  },
  {
   "cell_type": "code",
   "execution_count": 7,
   "id": "195c2a80",
   "metadata": {},
   "outputs": [],
   "source": [
    "df['datetime'] = pd.to_datetime(df['datetime'])"
   ]
  },
  {
   "cell_type": "code",
   "execution_count": 8,
   "id": "0e49e463",
   "metadata": {},
   "outputs": [
    {
     "name": "stdout",
     "output_type": "stream",
     "text": [
      "<class 'pandas.core.frame.DataFrame'>\n",
      "RangeIndex: 10886 entries, 0 to 10885\n",
      "Data columns (total 12 columns):\n",
      " #   Column      Non-Null Count  Dtype         \n",
      "---  ------      --------------  -----         \n",
      " 0   datetime    10886 non-null  datetime64[ns]\n",
      " 1   season      10886 non-null  object        \n",
      " 2   holiday     10886 non-null  object        \n",
      " 3   workingday  10886 non-null  object        \n",
      " 4   weather     10886 non-null  object        \n",
      " 5   temp        10886 non-null  float64       \n",
      " 6   atemp       10886 non-null  float64       \n",
      " 7   humidity    10886 non-null  int64         \n",
      " 8   windspeed   10886 non-null  float64       \n",
      " 9   casual      10886 non-null  int64         \n",
      " 10  registered  10886 non-null  int64         \n",
      " 11  count       10886 non-null  int64         \n",
      "dtypes: datetime64[ns](1), float64(3), int64(4), object(4)\n",
      "memory usage: 1020.7+ KB\n"
     ]
    }
   ],
   "source": [
    "df.info()"
   ]
  },
  {
   "cell_type": "markdown",
   "id": "da11125a",
   "metadata": {},
   "source": [
    "<font size=\"10\">**Missing Values**<font>"
   ]
  },
  {
   "cell_type": "markdown",
   "id": "9f4c4ca5",
   "metadata": {},
   "source": [
    "1. There seems to be no missing values "
   ]
  },
  {
   "cell_type": "code",
   "execution_count": 9,
   "id": "75637d69",
   "metadata": {},
   "outputs": [
    {
     "data": {
      "text/html": [
       "<div>\n",
       "<style scoped>\n",
       "    .dataframe tbody tr th:only-of-type {\n",
       "        vertical-align: middle;\n",
       "    }\n",
       "\n",
       "    .dataframe tbody tr th {\n",
       "        vertical-align: top;\n",
       "    }\n",
       "\n",
       "    .dataframe thead th {\n",
       "        text-align: right;\n",
       "    }\n",
       "</style>\n",
       "<table border=\"1\" class=\"dataframe\">\n",
       "  <thead>\n",
       "    <tr style=\"text-align: right;\">\n",
       "      <th></th>\n",
       "      <th>temp</th>\n",
       "      <th>atemp</th>\n",
       "      <th>humidity</th>\n",
       "      <th>windspeed</th>\n",
       "      <th>casual</th>\n",
       "      <th>registered</th>\n",
       "      <th>count</th>\n",
       "    </tr>\n",
       "  </thead>\n",
       "  <tbody>\n",
       "    <tr>\n",
       "      <th>count</th>\n",
       "      <td>10886.00000</td>\n",
       "      <td>10886.000000</td>\n",
       "      <td>10886.000000</td>\n",
       "      <td>10886.000000</td>\n",
       "      <td>10886.000000</td>\n",
       "      <td>10886.000000</td>\n",
       "      <td>10886.000000</td>\n",
       "    </tr>\n",
       "    <tr>\n",
       "      <th>mean</th>\n",
       "      <td>20.23086</td>\n",
       "      <td>23.655084</td>\n",
       "      <td>61.886460</td>\n",
       "      <td>12.799395</td>\n",
       "      <td>36.021955</td>\n",
       "      <td>155.552177</td>\n",
       "      <td>191.574132</td>\n",
       "    </tr>\n",
       "    <tr>\n",
       "      <th>std</th>\n",
       "      <td>7.79159</td>\n",
       "      <td>8.474601</td>\n",
       "      <td>19.245033</td>\n",
       "      <td>8.164537</td>\n",
       "      <td>49.960477</td>\n",
       "      <td>151.039033</td>\n",
       "      <td>181.144454</td>\n",
       "    </tr>\n",
       "    <tr>\n",
       "      <th>min</th>\n",
       "      <td>0.82000</td>\n",
       "      <td>0.760000</td>\n",
       "      <td>0.000000</td>\n",
       "      <td>0.000000</td>\n",
       "      <td>0.000000</td>\n",
       "      <td>0.000000</td>\n",
       "      <td>1.000000</td>\n",
       "    </tr>\n",
       "    <tr>\n",
       "      <th>25%</th>\n",
       "      <td>13.94000</td>\n",
       "      <td>16.665000</td>\n",
       "      <td>47.000000</td>\n",
       "      <td>7.001500</td>\n",
       "      <td>4.000000</td>\n",
       "      <td>36.000000</td>\n",
       "      <td>42.000000</td>\n",
       "    </tr>\n",
       "    <tr>\n",
       "      <th>50%</th>\n",
       "      <td>20.50000</td>\n",
       "      <td>24.240000</td>\n",
       "      <td>62.000000</td>\n",
       "      <td>12.998000</td>\n",
       "      <td>17.000000</td>\n",
       "      <td>118.000000</td>\n",
       "      <td>145.000000</td>\n",
       "    </tr>\n",
       "    <tr>\n",
       "      <th>75%</th>\n",
       "      <td>26.24000</td>\n",
       "      <td>31.060000</td>\n",
       "      <td>77.000000</td>\n",
       "      <td>16.997900</td>\n",
       "      <td>49.000000</td>\n",
       "      <td>222.000000</td>\n",
       "      <td>284.000000</td>\n",
       "    </tr>\n",
       "    <tr>\n",
       "      <th>max</th>\n",
       "      <td>41.00000</td>\n",
       "      <td>45.455000</td>\n",
       "      <td>100.000000</td>\n",
       "      <td>56.996900</td>\n",
       "      <td>367.000000</td>\n",
       "      <td>886.000000</td>\n",
       "      <td>977.000000</td>\n",
       "    </tr>\n",
       "  </tbody>\n",
       "</table>\n",
       "</div>"
      ],
      "text/plain": [
       "              temp         atemp      humidity     windspeed        casual  \\\n",
       "count  10886.00000  10886.000000  10886.000000  10886.000000  10886.000000   \n",
       "mean      20.23086     23.655084     61.886460     12.799395     36.021955   \n",
       "std        7.79159      8.474601     19.245033      8.164537     49.960477   \n",
       "min        0.82000      0.760000      0.000000      0.000000      0.000000   \n",
       "25%       13.94000     16.665000     47.000000      7.001500      4.000000   \n",
       "50%       20.50000     24.240000     62.000000     12.998000     17.000000   \n",
       "75%       26.24000     31.060000     77.000000     16.997900     49.000000   \n",
       "max       41.00000     45.455000    100.000000     56.996900    367.000000   \n",
       "\n",
       "         registered         count  \n",
       "count  10886.000000  10886.000000  \n",
       "mean     155.552177    191.574132  \n",
       "std      151.039033    181.144454  \n",
       "min        0.000000      1.000000  \n",
       "25%       36.000000     42.000000  \n",
       "50%      118.000000    145.000000  \n",
       "75%      222.000000    284.000000  \n",
       "max      886.000000    977.000000  "
      ]
     },
     "execution_count": 9,
     "metadata": {},
     "output_type": "execute_result"
    }
   ],
   "source": [
    "df.describe()"
   ]
  },
  {
   "cell_type": "markdown",
   "id": "621a22f8",
   "metadata": {},
   "source": [
    "<font size=\"8\">**#OUTLIER DETECTION**<font>"
   ]
  },
  {
   "cell_type": "code",
   "execution_count": 10,
   "id": "4f649f9e",
   "metadata": {},
   "outputs": [
    {
     "data": {
      "text/plain": [
       "<AxesSubplot:xlabel='count'>"
      ]
     },
     "execution_count": 10,
     "metadata": {},
     "output_type": "execute_result"
    },
    {
     "data": {
      "image/png": "[encoded data removed]",
      "text/plain": [
       "<Figure size 432x288 with 1 Axes>"
      ]
     },
     "metadata": {
      "needs_background": "light"
     },
     "output_type": "display_data"
    }
   ],
   "source": [
    "sns.boxplot(x=df[\"count\"])"
   ]
  },
  {
   "cell_type": "markdown",
   "id": "4289b26e",
   "metadata": {},
   "source": [
    "<font size=\"8\">**#OUTLIER TREATMENT**<font>"
   ]
  },
  {
   "cell_type": "code",
   "execution_count": 11,
   "id": "45e80c2c",
   "metadata": {},
   "outputs": [],
   "source": [
    "a=df[\"count\"].quantile(0.75)\n",
    "b=df[\"count\"].quantile(0.25)"
   ]
  },
  {
   "cell_type": "code",
   "execution_count": 12,
   "id": "8dbb0df7",
   "metadata": {},
   "outputs": [
    {
     "name": "stdout",
     "output_type": "stream",
     "text": [
      "284.0 42.0\n"
     ]
    }
   ],
   "source": [
    "print(a,b)"
   ]
  },
  {
   "cell_type": "code",
   "execution_count": 13,
   "id": "79b2aace",
   "metadata": {},
   "outputs": [
    {
     "data": {
      "text/plain": [
       "242.0"
      ]
     },
     "execution_count": 13,
     "metadata": {},
     "output_type": "execute_result"
    }
   ],
   "source": [
    "iqr=a-b\n",
    "iqr"
   ]
  },
  {
   "cell_type": "code",
   "execution_count": 14,
   "id": "e033f5ef",
   "metadata": {},
   "outputs": [
    {
     "name": "stdout",
     "output_type": "stream",
     "text": [
      "-321.0 647.0\n"
     ]
    }
   ],
   "source": [
    "lower_lim= b-1.5*iqr\n",
    "upper_lim=a+1.5*iqr\n",
    "print(lower_lim,upper_lim)"
   ]
  },
  {
   "cell_type": "code",
   "execution_count": 15,
   "id": "a7abb4d9",
   "metadata": {},
   "outputs": [],
   "source": [
    "new_df_cap = df.copy()\n",
    "\n",
    "\n"
   ]
  },
  {
   "cell_type": "code",
   "execution_count": 16,
   "id": "c9a50b7a",
   "metadata": {},
   "outputs": [],
   "source": [
    "new_df_cap['count'] = np.where(\n",
    "    new_df_cap['count'] > upper_lim,upper_lim,np.where(new_df_cap['count'] < lower_lim,lower_lim,new_df_cap['count']))"
   ]
  },
  {
   "cell_type": "code",
   "execution_count": 17,
   "id": "6368f3b6",
   "metadata": {},
   "outputs": [
    {
     "data": {
      "text/html": [
       "<div>\n",
       "<style scoped>\n",
       "    .dataframe tbody tr th:only-of-type {\n",
       "        vertical-align: middle;\n",
       "    }\n",
       "\n",
       "    .dataframe tbody tr th {\n",
       "        vertical-align: top;\n",
       "    }\n",
       "\n",
       "    .dataframe thead th {\n",
       "        text-align: right;\n",
       "    }\n",
       "</style>\n",
       "<table border=\"1\" class=\"dataframe\">\n",
       "  <thead>\n",
       "    <tr style=\"text-align: right;\">\n",
       "      <th></th>\n",
       "      <th>datetime</th>\n",
       "      <th>season</th>\n",
       "      <th>holiday</th>\n",
       "      <th>workingday</th>\n",
       "      <th>weather</th>\n",
       "      <th>temp</th>\n",
       "      <th>atemp</th>\n",
       "      <th>humidity</th>\n",
       "      <th>windspeed</th>\n",
       "      <th>casual</th>\n",
       "      <th>registered</th>\n",
       "      <th>count</th>\n",
       "    </tr>\n",
       "  </thead>\n",
       "  <tbody>\n",
       "    <tr>\n",
       "      <th>0</th>\n",
       "      <td>2011-01-01 00:00:00</td>\n",
       "      <td>1</td>\n",
       "      <td>0</td>\n",
       "      <td>0</td>\n",
       "      <td>1</td>\n",
       "      <td>9.84</td>\n",
       "      <td>14.395</td>\n",
       "      <td>81</td>\n",
       "      <td>0.0000</td>\n",
       "      <td>3</td>\n",
       "      <td>13</td>\n",
       "      <td>16.0</td>\n",
       "    </tr>\n",
       "    <tr>\n",
       "      <th>1</th>\n",
       "      <td>2011-01-01 01:00:00</td>\n",
       "      <td>1</td>\n",
       "      <td>0</td>\n",
       "      <td>0</td>\n",
       "      <td>1</td>\n",
       "      <td>9.02</td>\n",
       "      <td>13.635</td>\n",
       "      <td>80</td>\n",
       "      <td>0.0000</td>\n",
       "      <td>8</td>\n",
       "      <td>32</td>\n",
       "      <td>40.0</td>\n",
       "    </tr>\n",
       "    <tr>\n",
       "      <th>2</th>\n",
       "      <td>2011-01-01 02:00:00</td>\n",
       "      <td>1</td>\n",
       "      <td>0</td>\n",
       "      <td>0</td>\n",
       "      <td>1</td>\n",
       "      <td>9.02</td>\n",
       "      <td>13.635</td>\n",
       "      <td>80</td>\n",
       "      <td>0.0000</td>\n",
       "      <td>5</td>\n",
       "      <td>27</td>\n",
       "      <td>32.0</td>\n",
       "    </tr>\n",
       "    <tr>\n",
       "      <th>3</th>\n",
       "      <td>2011-01-01 03:00:00</td>\n",
       "      <td>1</td>\n",
       "      <td>0</td>\n",
       "      <td>0</td>\n",
       "      <td>1</td>\n",
       "      <td>9.84</td>\n",
       "      <td>14.395</td>\n",
       "      <td>75</td>\n",
       "      <td>0.0000</td>\n",
       "      <td>3</td>\n",
       "      <td>10</td>\n",
       "      <td>13.0</td>\n",
       "    </tr>\n",
       "    <tr>\n",
       "      <th>4</th>\n",
       "      <td>2011-01-01 04:00:00</td>\n",
       "      <td>1</td>\n",
       "      <td>0</td>\n",
       "      <td>0</td>\n",
       "      <td>1</td>\n",
       "      <td>9.84</td>\n",
       "      <td>14.395</td>\n",
       "      <td>75</td>\n",
       "      <td>0.0000</td>\n",
       "      <td>0</td>\n",
       "      <td>1</td>\n",
       "      <td>1.0</td>\n",
       "    </tr>\n",
       "    <tr>\n",
       "      <th>...</th>\n",
       "      <td>...</td>\n",
       "      <td>...</td>\n",
       "      <td>...</td>\n",
       "      <td>...</td>\n",
       "      <td>...</td>\n",
       "      <td>...</td>\n",
       "      <td>...</td>\n",
       "      <td>...</td>\n",
       "      <td>...</td>\n",
       "      <td>...</td>\n",
       "      <td>...</td>\n",
       "      <td>...</td>\n",
       "    </tr>\n",
       "    <tr>\n",
       "      <th>10881</th>\n",
       "      <td>2012-12-19 19:00:00</td>\n",
       "      <td>4</td>\n",
       "      <td>0</td>\n",
       "      <td>1</td>\n",
       "      <td>1</td>\n",
       "      <td>15.58</td>\n",
       "      <td>19.695</td>\n",
       "      <td>50</td>\n",
       "      <td>26.0027</td>\n",
       "      <td>7</td>\n",
       "      <td>329</td>\n",
       "      <td>336.0</td>\n",
       "    </tr>\n",
       "    <tr>\n",
       "      <th>10882</th>\n",
       "      <td>2012-12-19 20:00:00</td>\n",
       "      <td>4</td>\n",
       "      <td>0</td>\n",
       "      <td>1</td>\n",
       "      <td>1</td>\n",
       "      <td>14.76</td>\n",
       "      <td>17.425</td>\n",
       "      <td>57</td>\n",
       "      <td>15.0013</td>\n",
       "      <td>10</td>\n",
       "      <td>231</td>\n",
       "      <td>241.0</td>\n",
       "    </tr>\n",
       "    <tr>\n",
       "      <th>10883</th>\n",
       "      <td>2012-12-19 21:00:00</td>\n",
       "      <td>4</td>\n",
       "      <td>0</td>\n",
       "      <td>1</td>\n",
       "      <td>1</td>\n",
       "      <td>13.94</td>\n",
       "      <td>15.910</td>\n",
       "      <td>61</td>\n",
       "      <td>15.0013</td>\n",
       "      <td>4</td>\n",
       "      <td>164</td>\n",
       "      <td>168.0</td>\n",
       "    </tr>\n",
       "    <tr>\n",
       "      <th>10884</th>\n",
       "      <td>2012-12-19 22:00:00</td>\n",
       "      <td>4</td>\n",
       "      <td>0</td>\n",
       "      <td>1</td>\n",
       "      <td>1</td>\n",
       "      <td>13.94</td>\n",
       "      <td>17.425</td>\n",
       "      <td>61</td>\n",
       "      <td>6.0032</td>\n",
       "      <td>12</td>\n",
       "      <td>117</td>\n",
       "      <td>129.0</td>\n",
       "    </tr>\n",
       "    <tr>\n",
       "      <th>10885</th>\n",
       "      <td>2012-12-19 23:00:00</td>\n",
       "      <td>4</td>\n",
       "      <td>0</td>\n",
       "      <td>1</td>\n",
       "      <td>1</td>\n",
       "      <td>13.12</td>\n",
       "      <td>16.665</td>\n",
       "      <td>66</td>\n",
       "      <td>8.9981</td>\n",
       "      <td>4</td>\n",
       "      <td>84</td>\n",
       "      <td>88.0</td>\n",
       "    </tr>\n",
       "  </tbody>\n",
       "</table>\n",
       "<p>10886 rows × 12 columns</p>\n",
       "</div>"
      ],
      "text/plain": [
       "                 datetime season holiday workingday weather   temp   atemp  \\\n",
       "0     2011-01-01 00:00:00      1       0          0       1   9.84  14.395   \n",
       "1     2011-01-01 01:00:00      1       0          0       1   9.02  13.635   \n",
       "2     2011-01-01 02:00:00      1       0          0       1   9.02  13.635   \n",
       "3     2011-01-01 03:00:00      1       0          0       1   9.84  14.395   \n",
       "4     2011-01-01 04:00:00      1       0          0       1   9.84  14.395   \n",
       "...                   ...    ...     ...        ...     ...    ...     ...   \n",
       "10881 2012-12-19 19:00:00      4       0          1       1  15.58  19.695   \n",
       "10882 2012-12-19 20:00:00      4       0          1       1  14.76  17.425   \n",
       "10883 2012-12-19 21:00:00      4       0          1       1  13.94  15.910   \n",
       "10884 2012-12-19 22:00:00      4       0          1       1  13.94  17.425   \n",
       "10885 2012-12-19 23:00:00      4       0          1       1  13.12  16.665   \n",
       "\n",
       "       humidity  windspeed  casual  registered  count  \n",
       "0            81     0.0000       3          13   16.0  \n",
       "1            80     0.0000       8          32   40.0  \n",
       "2            80     0.0000       5          27   32.0  \n",
       "3            75     0.0000       3          10   13.0  \n",
       "4            75     0.0000       0           1    1.0  \n",
       "...         ...        ...     ...         ...    ...  \n",
       "10881        50    26.0027       7         329  336.0  \n",
       "10882        57    15.0013      10         231  241.0  \n",
       "10883        61    15.0013       4         164  168.0  \n",
       "10884        61     6.0032      12         117  129.0  \n",
       "10885        66     8.9981       4          84   88.0  \n",
       "\n",
       "[10886 rows x 12 columns]"
      ]
     },
     "execution_count": 17,
     "metadata": {},
     "output_type": "execute_result"
    }
   ],
   "source": [
    "new_df_cap"
   ]
  },
  {
   "cell_type": "markdown",
   "id": "66ec4055",
   "metadata": {},
   "source": [
    "<font size=\"8\">**#UNIVARIATE ANALSYIS**<font>"
   ]
  },
  {
   "cell_type": "code",
   "execution_count": 18,
   "id": "8e24cc17",
   "metadata": {},
   "outputs": [
    {
     "data": {
      "image/png": "[encoded data removed]",
      "text/plain": [
       "<Figure size 504x504 with 1 Axes>"
      ]
     },
     "metadata": {
      "needs_background": "light"
     },
     "output_type": "display_data"
    }
   ],
   "source": [
    "plt.figure(figsize=(7,7))\n",
    "p=sns.countplot(x=new_df_cap[\"weather\"])\n",
    "for i in p.patches:\n",
    "    plt.annotate(\"{:.2f}\".format(i.get_height()),(i.get_x()+0.25,i.get_height()),xytext=(0,5),textcoords= \"offset points\")\n",
    "plt.show()"
   ]
  },
  {
   "cell_type": "code",
   "execution_count": 19,
   "id": "765d6116",
   "metadata": {},
   "outputs": [
    {
     "data": {
      "image/png": "[encoded data removed]",
      "text/plain": [
       "<Figure size 720x720 with 1 Axes>"
      ]
     },
     "metadata": {
      "needs_background": "light"
     },
     "output_type": "display_data"
    }
   ],
   "source": [
    "plt.figure(figsize=(10,10))\n",
    "a=sns.countplot(x=\"season\",data=new_df_cap)\n",
    "for p in a.patches:\n",
    "    a.annotate('{:.1f}'.format(p.get_height()), (p.get_x()+0.25, p.get_height()+0.01) ,xytext = (0,5), textcoords = 'offset points')\n",
    "plt.show()"
   ]
  },
  {
   "cell_type": "code",
   "execution_count": 20,
   "id": "8cd4a508",
   "metadata": {},
   "outputs": [
    {
     "data": {
      "image/png": "[encoded data removed]",
      "text/plain": [
       "<Figure size 360x360 with 1 Axes>"
      ]
     },
     "metadata": {
      "needs_background": "light"
     },
     "output_type": "display_data"
    }
   ],
   "source": [
    "sns.displot(x=new_df_cap[\"casual\"])\n",
    "plt.show()"
   ]
  },
  {
   "cell_type": "code",
   "execution_count": 21,
   "id": "2dd862c9",
   "metadata": {},
   "outputs": [
    {
     "data": {
      "text/plain": [
       "<AxesSubplot:xlabel='casual'>"
      ]
     },
     "execution_count": 21,
     "metadata": {},
     "output_type": "execute_result"
    },
    {
     "data": {
      "image/png": "[encoded data removed]",
      "text/plain": [
       "<Figure size 432x288 with 1 Axes>"
      ]
     },
     "metadata": {
      "needs_background": "light"
     },
     "output_type": "display_data"
    }
   ],
   "source": [
    "sns.boxplot(x=new_df_cap[\"casual\"])"
   ]
  },
  {
   "cell_type": "code",
   "execution_count": 22,
   "id": "a75d89a5",
   "metadata": {},
   "outputs": [
    {
     "data": {
      "text/plain": [
       "4    2734\n",
       "2    2733\n",
       "3    2733\n",
       "1    2686\n",
       "Name: season, dtype: int64"
      ]
     },
     "execution_count": 22,
     "metadata": {},
     "output_type": "execute_result"
    }
   ],
   "source": [
    "new_df_cap[\"season\"].value_counts()"
   ]
  },
  {
   "cell_type": "code",
   "execution_count": 23,
   "id": "8f6a0978",
   "metadata": {},
   "outputs": [
    {
     "data": {
      "image/png": "[encoded data removed]",
      "text/plain": [
       "<Figure size 504x504 with 1 Axes>"
      ]
     },
     "metadata": {
      "needs_background": "light"
     },
     "output_type": "display_data"
    }
   ],
   "source": [
    "plt.figure(figsize=(7,7))\n",
    "ax = sns.countplot(x=\"workingday\", data=new_df_cap)\n",
    "\n",
    "for p in ax.patches:\n",
    "   ax.annotate('{:.1f}'.format(p.get_height()), (p.get_x()+0.25, p.get_height()+0.01) ,xytext = (0,5), textcoords = 'offset points')\n"
   ]
  },
  {
   "cell_type": "code",
   "execution_count": 24,
   "id": "947621cf",
   "metadata": {},
   "outputs": [
    {
     "data": {
      "image/png": "[encoded data removed]",
      "text/plain": [
       "<Figure size 504x504 with 1 Axes>"
      ]
     },
     "metadata": {
      "needs_background": "light"
     },
     "output_type": "display_data"
    }
   ],
   "source": [
    "plt.figure(figsize=(7,7))\n",
    "ax = sns.countplot(x=\"holiday\", data=new_df_cap)\n",
    "\n",
    "for p in ax.patches:\n",
    "   ax.annotate('{:.1f}'.format(p.get_height()), (p.get_x()+0.25, p.get_height()+0.01) ,xytext = (0,5), textcoords = 'offset points')\n"
   ]
  },
  {
   "cell_type": "markdown",
   "id": "30d32958",
   "metadata": {},
   "source": [
    "<font size=\"8\">**Observation**<font>"
   ]
  },
  {
   "cell_type": "markdown",
   "id": "0bc56ebb",
   "metadata": {},
   "source": [
    "1. All the seasons have approx equal weightage in their occurences.\n",
    "2. Most of the times the weather tended to be :- **Clear, Few clouds, partly cloudy, partly cloudy**\n",
    "    followed by :-  **Mist + Cloudy, Mist + Broken clouds, Mist + Few clouds, Mist**\n",
    "3. Casual No . of users have right skewed distribution i.e has a huge spread from 0-396 and large number of outliers .\n",
    "4.  working days:7412  &   weekends or holidays : 3474\n",
    "5. holidays:- 311 & non holidays : 10575"
   ]
  },
  {
   "cell_type": "markdown",
   "id": "5c69c555",
   "metadata": {},
   "source": [
    "#CREATING BINS TO MAKE THE ANALYSIS EASIER "
   ]
  },
  {
   "cell_type": "code",
   "execution_count": 25,
   "id": "32429084",
   "metadata": {},
   "outputs": [],
   "source": [
    "new_df_cap[\"humidity\"]=pd.qcut(new_df_cap[\"humidity\"],[0, .25, .5, .75, 1.],labels=[\"Low\",\"Medium\",\"High\",\"Very high\"] )\n"
   ]
  },
  {
   "cell_type": "code",
   "execution_count": 26,
   "id": "23b09014",
   "metadata": {},
   "outputs": [],
   "source": [
    "new_df_cap[\"temp\"]=pd.qcut(new_df_cap[\"temp\"],[0, .25, .5, .75, 1.],labels=[\"very cold\",\"cold\",\"room temp\",\"above room temp\"])"
   ]
  },
  {
   "cell_type": "code",
   "execution_count": 27,
   "id": "2ccded4c",
   "metadata": {},
   "outputs": [],
   "source": [
    "new_df_cap[\"atemp\"]=pd.qcut(new_df_cap[\"atemp\"],[0, .25, .5, .75, 1.],labels=[\"Low\",\"Medium\",\"High\",\"Very high\"] )"
   ]
  },
  {
   "cell_type": "code",
   "execution_count": 28,
   "id": "2bbe3928",
   "metadata": {},
   "outputs": [],
   "source": [
    "new_df_cap[\"windspeed\"]=pd.qcut(new_df_cap[\"windspeed\"],[0, .25, .5, .75, 1.],labels=[\"Low\",\"Medium\",\"High\",\"Very high\"] )"
   ]
  },
  {
   "cell_type": "code",
   "execution_count": 29,
   "id": "1e1e1899",
   "metadata": {},
   "outputs": [
    {
     "data": {
      "text/html": [
       "<div>\n",
       "<style scoped>\n",
       "    .dataframe tbody tr th:only-of-type {\n",
       "        vertical-align: middle;\n",
       "    }\n",
       "\n",
       "    .dataframe tbody tr th {\n",
       "        vertical-align: top;\n",
       "    }\n",
       "\n",
       "    .dataframe thead th {\n",
       "        text-align: right;\n",
       "    }\n",
       "</style>\n",
       "<table border=\"1\" class=\"dataframe\">\n",
       "  <thead>\n",
       "    <tr style=\"text-align: right;\">\n",
       "      <th></th>\n",
       "      <th>datetime</th>\n",
       "      <th>season</th>\n",
       "      <th>holiday</th>\n",
       "      <th>workingday</th>\n",
       "      <th>weather</th>\n",
       "      <th>temp</th>\n",
       "      <th>atemp</th>\n",
       "      <th>humidity</th>\n",
       "      <th>windspeed</th>\n",
       "      <th>casual</th>\n",
       "      <th>registered</th>\n",
       "      <th>count</th>\n",
       "    </tr>\n",
       "  </thead>\n",
       "  <tbody>\n",
       "    <tr>\n",
       "      <th>0</th>\n",
       "      <td>2011-01-01 00:00:00</td>\n",
       "      <td>1</td>\n",
       "      <td>0</td>\n",
       "      <td>0</td>\n",
       "      <td>1</td>\n",
       "      <td>very cold</td>\n",
       "      <td>Low</td>\n",
       "      <td>Very high</td>\n",
       "      <td>Low</td>\n",
       "      <td>3</td>\n",
       "      <td>13</td>\n",
       "      <td>16.0</td>\n",
       "    </tr>\n",
       "    <tr>\n",
       "      <th>1</th>\n",
       "      <td>2011-01-01 01:00:00</td>\n",
       "      <td>1</td>\n",
       "      <td>0</td>\n",
       "      <td>0</td>\n",
       "      <td>1</td>\n",
       "      <td>very cold</td>\n",
       "      <td>Low</td>\n",
       "      <td>Very high</td>\n",
       "      <td>Low</td>\n",
       "      <td>8</td>\n",
       "      <td>32</td>\n",
       "      <td>40.0</td>\n",
       "    </tr>\n",
       "    <tr>\n",
       "      <th>2</th>\n",
       "      <td>2011-01-01 02:00:00</td>\n",
       "      <td>1</td>\n",
       "      <td>0</td>\n",
       "      <td>0</td>\n",
       "      <td>1</td>\n",
       "      <td>very cold</td>\n",
       "      <td>Low</td>\n",
       "      <td>Very high</td>\n",
       "      <td>Low</td>\n",
       "      <td>5</td>\n",
       "      <td>27</td>\n",
       "      <td>32.0</td>\n",
       "    </tr>\n",
       "    <tr>\n",
       "      <th>3</th>\n",
       "      <td>2011-01-01 03:00:00</td>\n",
       "      <td>1</td>\n",
       "      <td>0</td>\n",
       "      <td>0</td>\n",
       "      <td>1</td>\n",
       "      <td>very cold</td>\n",
       "      <td>Low</td>\n",
       "      <td>High</td>\n",
       "      <td>Low</td>\n",
       "      <td>3</td>\n",
       "      <td>10</td>\n",
       "      <td>13.0</td>\n",
       "    </tr>\n",
       "    <tr>\n",
       "      <th>4</th>\n",
       "      <td>2011-01-01 04:00:00</td>\n",
       "      <td>1</td>\n",
       "      <td>0</td>\n",
       "      <td>0</td>\n",
       "      <td>1</td>\n",
       "      <td>very cold</td>\n",
       "      <td>Low</td>\n",
       "      <td>High</td>\n",
       "      <td>Low</td>\n",
       "      <td>0</td>\n",
       "      <td>1</td>\n",
       "      <td>1.0</td>\n",
       "    </tr>\n",
       "    <tr>\n",
       "      <th>...</th>\n",
       "      <td>...</td>\n",
       "      <td>...</td>\n",
       "      <td>...</td>\n",
       "      <td>...</td>\n",
       "      <td>...</td>\n",
       "      <td>...</td>\n",
       "      <td>...</td>\n",
       "      <td>...</td>\n",
       "      <td>...</td>\n",
       "      <td>...</td>\n",
       "      <td>...</td>\n",
       "      <td>...</td>\n",
       "    </tr>\n",
       "    <tr>\n",
       "      <th>10881</th>\n",
       "      <td>2012-12-19 19:00:00</td>\n",
       "      <td>4</td>\n",
       "      <td>0</td>\n",
       "      <td>1</td>\n",
       "      <td>1</td>\n",
       "      <td>cold</td>\n",
       "      <td>Medium</td>\n",
       "      <td>Medium</td>\n",
       "      <td>Very high</td>\n",
       "      <td>7</td>\n",
       "      <td>329</td>\n",
       "      <td>336.0</td>\n",
       "    </tr>\n",
       "    <tr>\n",
       "      <th>10882</th>\n",
       "      <td>2012-12-19 20:00:00</td>\n",
       "      <td>4</td>\n",
       "      <td>0</td>\n",
       "      <td>1</td>\n",
       "      <td>1</td>\n",
       "      <td>cold</td>\n",
       "      <td>Medium</td>\n",
       "      <td>Medium</td>\n",
       "      <td>High</td>\n",
       "      <td>10</td>\n",
       "      <td>231</td>\n",
       "      <td>241.0</td>\n",
       "    </tr>\n",
       "    <tr>\n",
       "      <th>10883</th>\n",
       "      <td>2012-12-19 21:00:00</td>\n",
       "      <td>4</td>\n",
       "      <td>0</td>\n",
       "      <td>1</td>\n",
       "      <td>1</td>\n",
       "      <td>very cold</td>\n",
       "      <td>Low</td>\n",
       "      <td>Medium</td>\n",
       "      <td>High</td>\n",
       "      <td>4</td>\n",
       "      <td>164</td>\n",
       "      <td>168.0</td>\n",
       "    </tr>\n",
       "    <tr>\n",
       "      <th>10884</th>\n",
       "      <td>2012-12-19 22:00:00</td>\n",
       "      <td>4</td>\n",
       "      <td>0</td>\n",
       "      <td>1</td>\n",
       "      <td>1</td>\n",
       "      <td>very cold</td>\n",
       "      <td>Medium</td>\n",
       "      <td>Medium</td>\n",
       "      <td>Low</td>\n",
       "      <td>12</td>\n",
       "      <td>117</td>\n",
       "      <td>129.0</td>\n",
       "    </tr>\n",
       "    <tr>\n",
       "      <th>10885</th>\n",
       "      <td>2012-12-19 23:00:00</td>\n",
       "      <td>4</td>\n",
       "      <td>0</td>\n",
       "      <td>1</td>\n",
       "      <td>1</td>\n",
       "      <td>very cold</td>\n",
       "      <td>Low</td>\n",
       "      <td>High</td>\n",
       "      <td>Medium</td>\n",
       "      <td>4</td>\n",
       "      <td>84</td>\n",
       "      <td>88.0</td>\n",
       "    </tr>\n",
       "  </tbody>\n",
       "</table>\n",
       "<p>10886 rows × 12 columns</p>\n",
       "</div>"
      ],
      "text/plain": [
       "                 datetime season holiday workingday weather       temp  \\\n",
       "0     2011-01-01 00:00:00      1       0          0       1  very cold   \n",
       "1     2011-01-01 01:00:00      1       0          0       1  very cold   \n",
       "2     2011-01-01 02:00:00      1       0          0       1  very cold   \n",
       "3     2011-01-01 03:00:00      1       0          0       1  very cold   \n",
       "4     2011-01-01 04:00:00      1       0          0       1  very cold   \n",
       "...                   ...    ...     ...        ...     ...        ...   \n",
       "10881 2012-12-19 19:00:00      4       0          1       1       cold   \n",
       "10882 2012-12-19 20:00:00      4       0          1       1       cold   \n",
       "10883 2012-12-19 21:00:00      4       0          1       1  very cold   \n",
       "10884 2012-12-19 22:00:00      4       0          1       1  very cold   \n",
       "10885 2012-12-19 23:00:00      4       0          1       1  very cold   \n",
       "\n",
       "        atemp   humidity  windspeed  casual  registered  count  \n",
       "0         Low  Very high        Low       3          13   16.0  \n",
       "1         Low  Very high        Low       8          32   40.0  \n",
       "2         Low  Very high        Low       5          27   32.0  \n",
       "3         Low       High        Low       3          10   13.0  \n",
       "4         Low       High        Low       0           1    1.0  \n",
       "...       ...        ...        ...     ...         ...    ...  \n",
       "10881  Medium     Medium  Very high       7         329  336.0  \n",
       "10882  Medium     Medium       High      10         231  241.0  \n",
       "10883     Low     Medium       High       4         164  168.0  \n",
       "10884  Medium     Medium        Low      12         117  129.0  \n",
       "10885     Low       High     Medium       4          84   88.0  \n",
       "\n",
       "[10886 rows x 12 columns]"
      ]
     },
     "execution_count": 29,
     "metadata": {},
     "output_type": "execute_result"
    }
   ],
   "source": [
    "new_df_cap"
   ]
  },
  {
   "cell_type": "code",
   "execution_count": 30,
   "id": "15484cb6",
   "metadata": {},
   "outputs": [
    {
     "data": {
      "text/plain": [
       "0              Low\n",
       "1              Low\n",
       "2              Low\n",
       "3              Low\n",
       "4              Low\n",
       "           ...    \n",
       "10881    Very high\n",
       "10882         High\n",
       "10883         High\n",
       "10884          Low\n",
       "10885       Medium\n",
       "Name: windspeed, Length: 10886, dtype: category\n",
       "Categories (4, object): ['Low' < 'Medium' < 'High' < 'Very high']"
      ]
     },
     "execution_count": 30,
     "metadata": {},
     "output_type": "execute_result"
    }
   ],
   "source": [
    "new_df_cap[\"windspeed\"]"
   ]
  },
  {
   "cell_type": "markdown",
   "id": "c3c0b3c8",
   "metadata": {},
   "source": [
    "<font size=\"14\">**Bi-Variate Analysis**<font>"
   ]
  },
  {
   "cell_type": "code",
   "execution_count": 31,
   "id": "79d49341",
   "metadata": {},
   "outputs": [
    {
     "data": {
      "text/plain": [
       "<AxesSubplot:xlabel='season', ylabel='count'>"
      ]
     },
     "execution_count": 31,
     "metadata": {},
     "output_type": "execute_result"
    },
    {
     "data": {
      "image/png": "[encoded data removed]",
      "text/plain": [
       "<Figure size 432x288 with 1 Axes>"
      ]
     },
     "metadata": {
      "needs_background": "light"
     },
     "output_type": "display_data"
    }
   ],
   "source": [
    "sns.boxplot(x=\"season\",y=\"count\",hue=\"temp\",data=new_df_cap)"
   ]
  },
  {
   "cell_type": "code",
   "execution_count": 32,
   "id": "e6a4381c",
   "metadata": {},
   "outputs": [
    {
     "data": {
      "text/plain": [
       "<AxesSubplot:xlabel='casual', ylabel='registered'>"
      ]
     },
     "execution_count": 32,
     "metadata": {},
     "output_type": "execute_result"
    },
    {
     "data": {
      "image/png": "[encoded data removed]",
      "text/plain": [
       "<Figure size 432x288 with 1 Axes>"
      ]
     },
     "metadata": {
      "needs_background": "light"
     },
     "output_type": "display_data"
    }
   ],
   "source": [
    "sns.lineplot(x=\"casual\",y=\"registered\",hue=\"season\",data=new_df_cap)"
   ]
  },
  {
   "cell_type": "code",
   "execution_count": 33,
   "id": "92b6ce29",
   "metadata": {},
   "outputs": [
    {
     "data": {
      "text/plain": [
       "<AxesSubplot:>"
      ]
     },
     "execution_count": 33,
     "metadata": {},
     "output_type": "execute_result"
    },
    {
     "data": {
      "image/png": "[encoded data removed]",
      "text/plain": [
       "<Figure size 432x288 with 2 Axes>"
      ]
     },
     "metadata": {
      "needs_background": "light"
     },
     "output_type": "display_data"
    }
   ],
   "source": [
    "sns.heatmap(df.corr(),annot=True)"
   ]
  },
  {
   "cell_type": "code",
   "execution_count": 34,
   "id": "690b3e4b",
   "metadata": {},
   "outputs": [
    {
     "data": {
      "text/plain": [
       "<AxesSubplot:xlabel='season', ylabel='count'>"
      ]
     },
     "execution_count": 34,
     "metadata": {},
     "output_type": "execute_result"
    },
    {
     "data": {
      "image/png": "[encoded data removed]",
      "text/plain": [
       "<Figure size 432x288 with 1 Axes>"
      ]
     },
     "metadata": {
      "needs_background": "light"
     },
     "output_type": "display_data"
    }
   ],
   "source": [
    "sns.countplot(x=\"season\",hue=\"weather\",data=new_df_cap)"
   ]
  },
  {
   "cell_type": "code",
   "execution_count": 35,
   "id": "211bbc5e",
   "metadata": {},
   "outputs": [
    {
     "data": {
      "text/plain": [
       "<AxesSubplot:xlabel='season', ylabel='count'>"
      ]
     },
     "execution_count": 35,
     "metadata": {},
     "output_type": "execute_result"
    },
    {
     "data": {
      "image/png": "[encoded data removed]",
      "text/plain": [
       "<Figure size 432x288 with 1 Axes>"
      ]
     },
     "metadata": {
      "needs_background": "light"
     },
     "output_type": "display_data"
    }
   ],
   "source": [
    "sns.boxplot(x=\"season\",y=\"count\",data=new_df_cap)"
   ]
  },
  {
   "cell_type": "code",
   "execution_count": 36,
   "id": "9b5741c5",
   "metadata": {},
   "outputs": [
    {
     "data": {
      "text/plain": [
       "<AxesSubplot:xlabel='weather', ylabel='count'>"
      ]
     },
     "execution_count": 36,
     "metadata": {},
     "output_type": "execute_result"
    },
    {
     "data": {
      "image/png": "[encoded data removed]",
      "text/plain": [
       "<Figure size 432x288 with 1 Axes>"
      ]
     },
     "metadata": {
      "needs_background": "light"
     },
     "output_type": "display_data"
    }
   ],
   "source": [
    "sns.boxplot(x=\"weather\",y=\"count\",data=new_df_cap)"
   ]
  },
  {
   "cell_type": "code",
   "execution_count": 37,
   "id": "c840cf89",
   "metadata": {},
   "outputs": [
    {
     "data": {
      "text/plain": [
       "<AxesSubplot:xlabel='weather', ylabel='count'>"
      ]
     },
     "execution_count": 37,
     "metadata": {},
     "output_type": "execute_result"
    },
    {
     "data": {
      "image/png": "[encoded data removed]",
      "text/plain": [
       "<Figure size 432x288 with 1 Axes>"
      ]
     },
     "metadata": {
      "needs_background": "light"
     },
     "output_type": "display_data"
    }
   ],
   "source": [
    "sns.violinplot(x=\"weather\",y=\"count\",data=new_df_cap)"
   ]
  },
  {
   "cell_type": "code",
   "execution_count": 38,
   "id": "5676fa12",
   "metadata": {},
   "outputs": [
    {
     "data": {
      "text/plain": [
       "<AxesSubplot:xlabel='season', ylabel='count'>"
      ]
     },
     "execution_count": 38,
     "metadata": {},
     "output_type": "execute_result"
    },
    {
     "data": {
      "image/png": "[encoded data removed]",
      "text/plain": [
       "<Figure size 432x288 with 1 Axes>"
      ]
     },
     "metadata": {
      "needs_background": "light"
     },
     "output_type": "display_data"
    }
   ],
   "source": [
    "sns.barplot(x=\"season\",y=\"count\",hue=\"weather\",data=new_df_cap)"
   ]
  },
  {
   "cell_type": "code",
   "execution_count": 39,
   "id": "435e07ef",
   "metadata": {},
   "outputs": [
    {
     "data": {
      "text/plain": [
       "<AxesSubplot:xlabel='season', ylabel='casual'>"
      ]
     },
     "execution_count": 39,
     "metadata": {},
     "output_type": "execute_result"
    },
    {
     "data": {
      "image/png": "[encoded data removed]",
      "text/plain": [
       "<Figure size 432x288 with 1 Axes>"
      ]
     },
     "metadata": {
      "needs_background": "light"
     },
     "output_type": "display_data"
    }
   ],
   "source": [
    "sns.boxplot(x=\"season\",y=\"casual\",data=new_df_cap)"
   ]
  },
  {
   "cell_type": "code",
   "execution_count": 40,
   "id": "58a17820",
   "metadata": {},
   "outputs": [
    {
     "data": {
      "text/plain": [
       "<AxesSubplot:xlabel='weather', ylabel='casual'>"
      ]
     },
     "execution_count": 40,
     "metadata": {},
     "output_type": "execute_result"
    },
    {
     "data": {
      "image/png": "[encoded data removed]",
      "text/plain": [
       "<Figure size 432x288 with 1 Axes>"
      ]
     },
     "metadata": {
      "needs_background": "light"
     },
     "output_type": "display_data"
    }
   ],
   "source": [
    "sns.boxplot(x=\"weather\",y=\"casual\",data=new_df_cap)"
   ]
  },
  {
   "cell_type": "code",
   "execution_count": 41,
   "id": "424e2058",
   "metadata": {},
   "outputs": [
    {
     "data": {
      "text/plain": [
       "<AxesSubplot:xlabel='workingday', ylabel='count'>"
      ]
     },
     "execution_count": 41,
     "metadata": {},
     "output_type": "execute_result"
    },
    {
     "data": {
      "image/png": "[encoded data removed]",
      "text/plain": [
       "<Figure size 432x288 with 1 Axes>"
      ]
     },
     "metadata": {
      "needs_background": "light"
     },
     "output_type": "display_data"
    }
   ],
   "source": [
    "sns.boxplot(x=\"workingday\",y=\"count\",data=new_df_cap)"
   ]
  },
  {
   "cell_type": "code",
   "execution_count": 42,
   "id": "11d6416e",
   "metadata": {},
   "outputs": [
    {
     "data": {
      "text/plain": [
       "<AxesSubplot:xlabel='casual', ylabel='registered'>"
      ]
     },
     "execution_count": 42,
     "metadata": {},
     "output_type": "execute_result"
    },
    {
     "data": {
      "image/png": "[encoded data removed]",
      "text/plain": [
       "<Figure size 432x288 with 1 Axes>"
      ]
     },
     "metadata": {
      "needs_background": "light"
     },
     "output_type": "display_data"
    }
   ],
   "source": [
    "sns.lineplot(x=\"casual\",y=\"registered\",hue=\"workingday\",data=new_df_cap)"
   ]
  },
  {
   "cell_type": "code",
   "execution_count": 43,
   "id": "8a7b0f96",
   "metadata": {},
   "outputs": [
    {
     "data": {
      "text/plain": [
       "<AxesSubplot:xlabel='holiday', ylabel='count'>"
      ]
     },
     "execution_count": 43,
     "metadata": {},
     "output_type": "execute_result"
    },
    {
     "data": {
      "image/png": "[encoded data removed]",
      "text/plain": [
       "<Figure size 432x288 with 1 Axes>"
      ]
     },
     "metadata": {
      "needs_background": "light"
     },
     "output_type": "display_data"
    }
   ],
   "source": [
    "sns.barplot(x=\"holiday\",y=\"count\",hue=\"weather\",data=new_df_cap)"
   ]
  },
  {
   "cell_type": "code",
   "execution_count": 44,
   "id": "436f743d",
   "metadata": {},
   "outputs": [
    {
     "data": {
      "text/plain": [
       "<AxesSubplot:xlabel='workingday', ylabel='count'>"
      ]
     },
     "execution_count": 44,
     "metadata": {},
     "output_type": "execute_result"
    },
    {
     "data": {
      "image/png": "[encoded data removed]",
      "text/plain": [
       "<Figure size 432x288 with 1 Axes>"
      ]
     },
     "metadata": {
      "needs_background": "light"
     },
     "output_type": "display_data"
    }
   ],
   "source": [
    "sns.barplot(x=\"workingday\",y=\"count\",hue=\"weather\",data=new_df_cap)"
   ]
  },
  {
   "cell_type": "code",
   "execution_count": 45,
   "id": "c00c54a1",
   "metadata": {},
   "outputs": [
    {
     "data": {
      "text/plain": [
       "<AxesSubplot:xlabel='humidity', ylabel='count'>"
      ]
     },
     "execution_count": 45,
     "metadata": {},
     "output_type": "execute_result"
    },
    {
     "data": {
      "image/png": "[encoded data removed]",
      "text/plain": [
       "<Figure size 432x288 with 1 Axes>"
      ]
     },
     "metadata": {
      "needs_background": "light"
     },
     "output_type": "display_data"
    }
   ],
   "source": [
    "sns.boxplot(x=\"humidity\",y=\"count\",data=new_df_cap)"
   ]
  },
  {
   "cell_type": "code",
   "execution_count": 46,
   "id": "0164cd4a",
   "metadata": {},
   "outputs": [
    {
     "data": {
      "text/plain": [
       "<AxesSubplot:xlabel='temp', ylabel='count'>"
      ]
     },
     "execution_count": 46,
     "metadata": {},
     "output_type": "execute_result"
    },
    {
     "data": {
      "image/png": "[encoded data removed]",
      "text/plain": [
       "<Figure size 432x288 with 1 Axes>"
      ]
     },
     "metadata": {
      "needs_background": "light"
     },
     "output_type": "display_data"
    }
   ],
   "source": [
    "sns.boxplot(x=\"temp\",y=\"count\",data=new_df_cap)"
   ]
  },
  {
   "cell_type": "markdown",
   "id": "149b9958",
   "metadata": {},
   "source": [
    "<font size=\"4\">**Observation**<font>"
   ]
  },
  {
   "cell_type": "markdown",
   "id": "d122961e",
   "metadata": {},
   "source": [
    "1. It is very clearly visible as the temperature rises FROM VERY COLD TO COLD to normal and above room temperatures , people prefer taking bicyles .\n",
    "2. Whether it is Working Day or not does not greatly affect the number of rented bicyles i.e count\n",
    "3. Also in every season , weather 1 is more preferred and more number of transaaaction are there in weather 1 as more pleasnt weather\n",
    "4. No. of biclyes rented  are the **most** in 3rd Season , it has the greatest count .\n",
    "5. **MEAN** No . of bicyles rented are the most  in weather 1 :-  i.e **Clear, Few clouds, partly cloudy, partly cloudy**\n",
    "6. The distribtuion of rented cycles is concentraed at around 0-200 for all weathers.\n",
    "7. It is seen that in every season , weather 1 is where most number of bicyles are rented .\n"
   ]
  },
  {
   "cell_type": "markdown",
   "id": "7472e62c",
   "metadata": {},
   "source": [
    "<font size=\"4\"><font color='red'>**Interesting Observation**<font>"
   ]
  },
  {
   "cell_type": "markdown",
   "id": "b4c2d3c9",
   "metadata": {},
   "source": [
    "1. One interesting thing :- in season 1 weather 4 comes out as an exception , will need more depth inlook .\n",
    "2. Also one interesting fact is that the **total no of rented bicyles** is **not affected by working day** becasue **on holiday casual number of bicylce takes increase and compensate for loss in registred daily users .    \n"
   ]
  },
  {
   "cell_type": "markdown",
   "id": "db13eae7",
   "metadata": {},
   "source": [
    "<font size=\"4\">**Comments**<font>"
   ]
  },
  {
   "cell_type": "markdown",
   "id": "5cc8ab38",
   "metadata": {},
   "source": [
    "1. There is strong correlation bw atemp and count .\n",
    "2. There is strong correlation bw temp and count. \n",
    "3. Humidity tends to reduce the the count of rented bicyles as it has negative correlation\n",
    "4. Windspeed  is negatively correlated to humidity .\n",
    "5. weather 2 is more suitable if it happens to be a holiday and rented cycles demand increases .\n",
    "   weather 2 is more in demand whether it is a holiday or working day .\n",
    "6. As humidity varies , days with less humidity are more favourbale as compared to more humidity ."
   ]
  },
  {
   "cell_type": "markdown",
   "id": "1c7b5eb4",
   "metadata": {},
   "source": [
    "<font size=\"4\">**2 SAMPLE TTEST:-WORKINGDAY VS COUNT**<font>"
   ]
  },
  {
   "cell_type": "markdown",
   "id": "0fd5100f",
   "metadata": {},
   "source": [
    "1. * H0:- means of independent sample are same i.e working day does not affect \n",
    "   * Ha:- means are different( 2 tailed test) i.e working day affects \n",
    "2. confidence levvel =99%\n",
    "3. significance = 1-0.9 =0.01\n",
    "4. alpha=0.01\n",
    "5. test stattistic t"
   ]
  },
  {
   "cell_type": "code",
   "execution_count": 47,
   "id": "9ff58905",
   "metadata": {},
   "outputs": [],
   "source": [
    "s1=300\n",
    "s2=500\n",
    "alpha=0.01"
   ]
  },
  {
   "cell_type": "code",
   "execution_count": 48,
   "id": "9380d04d",
   "metadata": {},
   "outputs": [],
   "source": [
    "a=new_df_cap[new_df_cap[\"workingday\"]==0].sample(s1)[\"count\"]\n",
    "a_mean=new_df_cap[new_df_cap[\"workingday\"]==0].sample(s1)[\"count\"].mean()\n",
    "a_std=new_df_cap[new_df_cap[\"workingday\"]==0].sample(s1)[\"count\"].std()"
   ]
  },
  {
   "cell_type": "code",
   "execution_count": 49,
   "id": "bc7029e4",
   "metadata": {},
   "outputs": [],
   "source": [
    "b=new_df_cap[new_df_cap[\"workingday\"]==1].sample(s2)[\"count\"]\n",
    "b_mean=new_df_cap[new_df_cap[\"workingday\"]==1].sample(s2)[\"count\"].mean()\n",
    "b_std=new_df_cap[new_df_cap[\"workingday\"]==1].sample(s2)[\"count\"].std()"
   ]
  },
  {
   "cell_type": "code",
   "execution_count": 50,
   "id": "2c9324a3",
   "metadata": {},
   "outputs": [],
   "source": [
    "ttest_stat, p_value=ttest_ind_from_stats(a_mean,a_std,s1,b_mean,b_std,s2)"
   ]
  },
  {
   "cell_type": "code",
   "execution_count": 51,
   "id": "65b09879",
   "metadata": {},
   "outputs": [
    {
     "data": {
      "text/plain": [
       "0.7132331834791275"
      ]
     },
     "execution_count": 51,
     "metadata": {},
     "output_type": "execute_result"
    }
   ],
   "source": [
    "p_value"
   ]
  },
  {
   "cell_type": "code",
   "execution_count": 52,
   "id": "4d6d1a94",
   "metadata": {},
   "outputs": [
    {
     "name": "stdout",
     "output_type": "stream",
     "text": [
      "Fail to Reject Null Hypothesis\n"
     ]
    }
   ],
   "source": [
    "if p_value < alpha:\n",
    "    print(\"Reject Null Hypothesis\")\n",
    "else:\n",
    "    print(\"Fail to Reject Null Hypothesis\")"
   ]
  },
  {
   "cell_type": "markdown",
   "id": "6ed1c9fb",
   "metadata": {},
   "source": [
    "<font size=\"4\">**ANOVA TEST :- SEASON VS COUNT**<font>\n"
   ]
  },
  {
   "cell_type": "markdown",
   "id": "f1ed6afb",
   "metadata": {},
   "source": [
    "\n",
    "1. * H0:- means of independent sample are same i.e different season does not affect count no. of rented cycles\n",
    "   * Ha:- means are different( 2 tailed test) i.e different season affects no. of rented cycles\n",
    "2. confidence level =99%\n",
    "3. significance = 1-0.9 =0.01\n",
    "4. alpha=0.01\n",
    "5. test stattistic t"
   ]
  },
  {
   "cell_type": "code",
   "execution_count": 53,
   "id": "02c245df",
   "metadata": {},
   "outputs": [],
   "source": [
    "alpha=0.01"
   ]
  },
  {
   "cell_type": "code",
   "execution_count": 54,
   "id": "b952ae8e",
   "metadata": {},
   "outputs": [],
   "source": [
    "set_1=new_df_cap[new_df_cap[\"season\"]==1][\"count\"]\n",
    "set_2=new_df_cap[new_df_cap[\"season\"]==2][\"count\"]\n",
    "set_3=new_df_cap[new_df_cap[\"season\"]==3][\"count\"]\n",
    "set_4=new_df_cap[new_df_cap[\"season\"]==4][\"count\"]         "
   ]
  },
  {
   "cell_type": "code",
   "execution_count": 55,
   "id": "ec24122d",
   "metadata": {},
   "outputs": [
    {
     "data": {
      "text/plain": [
       "(243.33766355201303, 7.771506553957677e-153)"
      ]
     },
     "execution_count": 55,
     "metadata": {},
     "output_type": "execute_result"
    }
   ],
   "source": [
    "f_stat,p_value =f_oneway(set_1,set_2,set_3,set_4)\n",
    "f_stat,p_value"
   ]
  },
  {
   "cell_type": "code",
   "execution_count": 56,
   "id": "25bafdf6",
   "metadata": {},
   "outputs": [
    {
     "name": "stdout",
     "output_type": "stream",
     "text": [
      "Reject Null Hypothesis\n"
     ]
    }
   ],
   "source": [
    "if p_value < alpha:\n",
    "    print(\"Reject Null Hypothesis\")\n",
    "else:\n",
    "    print(\"Fail to Reject Null Hypothesis\")"
   ]
  },
  {
   "cell_type": "markdown",
   "id": "a2e9ebef",
   "metadata": {},
   "source": [
    "<font size=\"4\">**ANOVA TEST :- WEATHER  VS COUNT**<font>\n"
   ]
  },
  {
   "cell_type": "markdown",
   "id": "7fbcc76d",
   "metadata": {},
   "source": [
    "\n",
    "1. * H0:- means of independent sample are same i.e different weather  does not affect count no. of rented cycles\n",
    "   * Ha:- means are different( 2 tailed test) i.e different weather  affects no. of rented cycles\n",
    "2. confidence level =99%\n",
    "3. significance = 1-0.9 =0.01\n",
    "4. alpha=0.01\n",
    "5. test stattistic :- F_ratio"
   ]
  },
  {
   "cell_type": "code",
   "execution_count": 57,
   "id": "75f71952",
   "metadata": {},
   "outputs": [],
   "source": [
    "dist_1=new_df_cap[new_df_cap[\"weather\"]==1][\"count\"]\n",
    "dist_2=new_df_cap[new_df_cap[\"weather\"]==2][\"count\"]\n",
    "dist_3=new_df_cap[new_df_cap[\"weather\"]==3][\"count\"]\n",
    "dist_4=new_df_cap[new_df_cap[\"weather\"]==4][\"count\"]   "
   ]
  },
  {
   "cell_type": "code",
   "execution_count": 58,
   "id": "ca40995c",
   "metadata": {},
   "outputs": [
    {
     "data": {
      "text/plain": [
       "(68.4116520342703, 8.034967610817961e-44)"
      ]
     },
     "execution_count": 58,
     "metadata": {},
     "output_type": "execute_result"
    }
   ],
   "source": [
    "f_stat, p_value=f_oneway(dist_1,dist_2,dist_3,dist_4)\n",
    "f_stat, p_value"
   ]
  },
  {
   "cell_type": "code",
   "execution_count": 59,
   "id": "06707042",
   "metadata": {},
   "outputs": [
    {
     "name": "stdout",
     "output_type": "stream",
     "text": [
      "Reject Null Hypothesis\n"
     ]
    }
   ],
   "source": [
    "if p_value < alpha:\n",
    "    print(\"Reject Null Hypothesis\")\n",
    "else:\n",
    "    print(\"Fail to Reject Null Hypothesis\")"
   ]
  },
  {
   "cell_type": "markdown",
   "id": "b48fc066",
   "metadata": {},
   "source": [
    "<font size=\"4\">**CHI-SQUARE TEST :- WEATHER VS SEASON**<font>\n",
    "\n"
   ]
  },
  {
   "cell_type": "markdown",
   "id": "822dc094",
   "metadata": {},
   "source": [
    "1. * H0:- means of independent sample are same i.e different seasons does not affect different weathers\n",
    "   * Ha:- means are different( 2 tailed test) i.e different seasons affects different weather\n",
    "2. confidence level =99%\n",
    "3. significance = 1-0.9 =0.01\n",
    "4. alpha=0.01\n",
    "\n",
    "5. test stattistic :- Chi2_statistic"
   ]
  },
  {
   "cell_type": "code",
   "execution_count": 60,
   "id": "16b426dd",
   "metadata": {},
   "outputs": [],
   "source": [
    "data=pd.crosstab(index=new_df_cap[\"season\"],columns=new_df_cap[\"weather\"])"
   ]
  },
  {
   "cell_type": "code",
   "execution_count": 61,
   "id": "7d9a703c",
   "metadata": {},
   "outputs": [
    {
     "data": {
      "text/html": [
       "<div>\n",
       "<style scoped>\n",
       "    .dataframe tbody tr th:only-of-type {\n",
       "        vertical-align: middle;\n",
       "    }\n",
       "\n",
       "    .dataframe tbody tr th {\n",
       "        vertical-align: top;\n",
       "    }\n",
       "\n",
       "    .dataframe thead th {\n",
       "        text-align: right;\n",
       "    }\n",
       "</style>\n",
       "<table border=\"1\" class=\"dataframe\">\n",
       "  <thead>\n",
       "    <tr style=\"text-align: right;\">\n",
       "      <th>weather</th>\n",
       "      <th>1</th>\n",
       "      <th>2</th>\n",
       "      <th>3</th>\n",
       "      <th>4</th>\n",
       "    </tr>\n",
       "    <tr>\n",
       "      <th>season</th>\n",
       "      <th></th>\n",
       "      <th></th>\n",
       "      <th></th>\n",
       "      <th></th>\n",
       "    </tr>\n",
       "  </thead>\n",
       "  <tbody>\n",
       "    <tr>\n",
       "      <th>1</th>\n",
       "      <td>1759</td>\n",
       "      <td>715</td>\n",
       "      <td>211</td>\n",
       "      <td>1</td>\n",
       "    </tr>\n",
       "    <tr>\n",
       "      <th>2</th>\n",
       "      <td>1801</td>\n",
       "      <td>708</td>\n",
       "      <td>224</td>\n",
       "      <td>0</td>\n",
       "    </tr>\n",
       "    <tr>\n",
       "      <th>3</th>\n",
       "      <td>1930</td>\n",
       "      <td>604</td>\n",
       "      <td>199</td>\n",
       "      <td>0</td>\n",
       "    </tr>\n",
       "    <tr>\n",
       "      <th>4</th>\n",
       "      <td>1702</td>\n",
       "      <td>807</td>\n",
       "      <td>225</td>\n",
       "      <td>0</td>\n",
       "    </tr>\n",
       "  </tbody>\n",
       "</table>\n",
       "</div>"
      ],
      "text/plain": [
       "weather     1    2    3  4\n",
       "season                    \n",
       "1        1759  715  211  1\n",
       "2        1801  708  224  0\n",
       "3        1930  604  199  0\n",
       "4        1702  807  225  0"
      ]
     },
     "execution_count": 61,
     "metadata": {},
     "output_type": "execute_result"
    }
   ],
   "source": [
    "data"
   ]
  },
  {
   "cell_type": "code",
   "execution_count": 62,
   "id": "d8810c7a",
   "metadata": {},
   "outputs": [
    {
     "data": {
      "text/plain": [
       "1.549925073686492e-07"
      ]
     },
     "execution_count": 62,
     "metadata": {},
     "output_type": "execute_result"
    }
   ],
   "source": [
    "chi_stat, p_value, dof, expected=chi2_contingency(data)\n",
    "p_value"
   ]
  },
  {
   "cell_type": "code",
   "execution_count": 63,
   "id": "4f79c850",
   "metadata": {},
   "outputs": [
    {
     "name": "stdout",
     "output_type": "stream",
     "text": [
      "Reject Null Hypothesis\n"
     ]
    }
   ],
   "source": [
    "if p_value < alpha:\n",
    "    print(\"Reject Null Hypothesis\")\n",
    "else:\n",
    "    print(\"Fail to Reject Null Hypothesis\")"
   ]
  },
  {
   "cell_type": "markdown",
   "id": "5d16999a",
   "metadata": {},
   "source": [
    "<font size=\"14\">**INFERENCE**<font>"
   ]
  },
  {
   "cell_type": "markdown",
   "id": "502f683d",
   "metadata": {},
   "source": [
    "1. 2_sample Ttest :- working day does not affect the the number of rented bicyles hence we fail to reject null hypothesis(the means are same both \n",
    "    when working day = 0 and working day =1 )\n",
    "2. ANOVA Test( count vs season):- Season does affect the number of rented bicyles , hence null hypothesis rejected .\n",
    "3. ANOVA Test( count vs weather):- Weather does affect the number of rented bicycles , hence the null hypotheis rejected.\n",
    "4. Chi_2 Test ( season vs weather):- Weather and season are not dependent on each other .\n",
    "    "
   ]
  },
  {
   "cell_type": "markdown",
   "id": "c3a2e268",
   "metadata": {},
   "source": [
    "<font size=\"14\">**RECOMMENDATIONS**<font>"
   ]
  },
  {
   "cell_type": "markdown",
   "id": "380ed1ae",
   "metadata": {},
   "source": [
    "1. We should focus more on increasing the inventory when days are more favorable for weather 1 .\n",
    "2. On weekends aad holidays if weather forecasts predict category 2: we should be ready to supplement the demand .\n",
    "3. Also when it is time for season 3, we should be ready to supplement the demand .\n",
    "4. **On holidays , as casual users increase , there should be interesting competetions , meetups, trek, cyclothons\n",
    "    to convert those casual to registered **.\n",
    "5. As there are more number of working days compared to holidays , the focus should be on more awareness \n",
    "    campaigns about climate change , therrby increasing the use of our bikes .\n",
    "6. On days with lower humidity and normal temperatures lie the golden opportunity to increase revenue \n",
    "7. Windspeeds also will be favorable to manage the inventory if prior forecasts are available .\n"
   ]
  }
 ],
 "metadata": {
  "kernelspec": {
   "display_name": "Python 3 (ipykernel)",
   "language": "python",
   "name": "python3"
  },
  "language_info": {
   "codemirror_mode": {
    "name": "ipython",
    "version": 3
   },
   "file_extension": ".py",
   "mimetype": "text/x-python",
   "name": "python",
   "nbconvert_exporter": "python",
   "pygments_lexer": "ipython3",
   "version": "3.9.12"
  }
 },
 "nbformat": 4,
 "nbformat_minor": 5
}
